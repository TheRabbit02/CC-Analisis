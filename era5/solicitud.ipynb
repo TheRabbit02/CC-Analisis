import cdsapi

years = range(1991,2024)
for i in range(0, len(years), 3):
    yeari = years[i:i+3]
    year = [str(yearo) for yearo in yeari]
    dataset = "reanalysis-era5-pressure-levels"
    request = {
        "product_type": ["reanalysis"],
        "variable": [
            "geopotential",
            "relative_humidity",
            "specific_cloud_liquid_water_content",
            "specific_rain_water_content",
            "temperature",
            "u_component_of_wind",
            "v_component_of_wind"
        ],
        "year": year,
        "month": [
        "01", "02", "03",
        "04", "05", "06",
        "07", "08", "09",
        "10", "11", "12"],
        "day": [
            "01", "02", "03",
            "04", "05", "06",
            "07", "08", "09",
            "10", "11", "12",
            "13", "14", "15",
            "16", "17", "18",
            "19", "20", "21",
            "22", "23", "24",
            "25", "26", "27",
            "28", "29", "30",
            "31"
        ],
        "time": ["18:00"],
        "pressure_level": [
            "850", "875", "900",
            "925", "950", "975",
            "1000"
        ],
        "data_format": "netcdf",
        "download_format": "unarchived",
        "area": [-32, -71.75, -34, -70]
    }
    target = f'era5_{yeari[0]}.nc'
    client = cdsapi.Client()
    client.retrieve(dataset, request,target)

{
 "cells": [
  {
   "cell_type": "code",
   "execution_count": null,
   "metadata": {},
   "outputs": [],
   "source": [
    "import cdsapi\n",
    "\n",
    "years = range(1991,2024)\n",
    "for i in range(0, len(years), 3):\n",
    "    yeari = years[i:i+3]\n",
    "    year = [str(yearo) for yearo in yeari]\n",
    "    dataset = \"reanalysis-era5-pressure-levels\"\n",
    "    request = {\n",
    "        \"product_type\": [\"reanalysis\"],\n",
    "        \"variable\": [\n",
    "            \"geopotential\",\n",
    "            \"relative_humidity\",\n",
    "            \"specific_cloud_liquid_water_content\",\n",
    "            \"specific_rain_water_content\",\n",
    "            \"temperature\",\n",
    "            \"u_component_of_wind\",\n",
    "            \"v_component_of_wind\"\n",
    "        ],\n",
    "        \"year\": year,\n",
    "        \"month\": [\n",
    "        \"01\", \"02\", \"03\",\n",
    "        \"04\", \"05\", \"06\",\n",
    "        \"07\", \"08\", \"09\",\n",
    "        \"10\", \"11\", \"12\"],\n",
    "        \"day\": [\n",
    "            \"01\", \"02\", \"03\",\n",
    "            \"04\", \"05\", \"06\",\n",
    "            \"07\", \"08\", \"09\",\n",
    "            \"10\", \"11\", \"12\",\n",
    "            \"13\", \"14\", \"15\",\n",
    "            \"16\", \"17\", \"18\",\n",
    "            \"19\", \"20\", \"21\",\n",
    "            \"22\", \"23\", \"24\",\n",
    "            \"25\", \"26\", \"27\",\n",
    "            \"28\", \"29\", \"30\",\n",
    "            \"31\"\n",
    "        ],\n",
    "        \"time\": [\"18:00\"],\n",
    "        \"pressure_level\": [\n",
    "            \"850\", \"875\", \"900\",\n",
    "            \"925\", \"950\", \"975\",\n",
    "            \"1000\"\n",
    "        ],\n",
    "        \"data_format\": \"netcdf\",\n",
    "        \"download_format\": \"unarchived\",\n",
    "        \"area\": [-32, -71.75, -34, -70]\n",
    "    }\n",
    "    target = f'era5_{yeari[0]}.nc'\n",
    "    client = cdsapi.Client()\n",
    "    client.retrieve(dataset, request,target)\n"
   ]
  }
 ],
 "metadata": {
  "kernelspec": {
   "display_name": "Python 3",
   "language": "python",
   "name": "python3"
  },
  "language_info": {
   "codemirror_mode": {
    "name": "ipython",
    "version": 3
   },
   "file_extension": ".py",
   "mimetype": "text/x-python",
   "name": "python",
   "nbconvert_exporter": "python",
   "pygments_lexer": "ipython3",
   "version": "3.10.11"
  }
 },
 "nbformat": 4,
 "nbformat_minor": 2
}
